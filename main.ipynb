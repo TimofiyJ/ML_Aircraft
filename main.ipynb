{
 "cells": [
  {
   "cell_type": "markdown",
   "id": "2b812f54",
   "metadata": {},
   "source": [
    "## 0. Install dependencies    "
   ]
  },
  {
   "cell_type": "code",
   "execution_count": null,
   "id": "bc03c303",
   "metadata": {},
   "outputs": [],
   "source": [
    "!pip install -r requirements.txt"
   ]
  },
  {
   "cell_type": "code",
   "execution_count": 8,
   "id": "1c92f221",
   "metadata": {},
   "outputs": [],
   "source": [
    "!pip install opendatasets\n",
    "!pip install pandas"
   ]
  },
  {
   "cell_type": "code",
   "execution_count": 4,
   "id": "e348c3d0",
   "metadata": {},
   "outputs": [],
   "source": [
    "import opendatasets as od\n",
    "import pandas"
   ]
  },
  {
   "cell_type": "markdown",
   "id": "f3e14eb7",
   "metadata": {},
   "source": [
    "##  1. Download data"
   ]
  },
  {
   "cell_type": "markdown",
   "id": "76e32e11",
   "metadata": {},
   "source": [
    "Detail about the dataset and how i created script for downloading the dataset through notebook\n",
    "https://www.geeksforgeeks.org/how-to-download-kaggle-datasets-into-jupyter-notebook/"
   ]
  },
  {
   "cell_type": "code",
   "execution_count": 6,
   "id": "f603d481",
   "metadata": {},
   "outputs": [
    {
     "name": "stdout",
     "output_type": "stream",
     "text": [
      "Please provide your Kaggle credentials to download this dataset. Learn more: http://bit.ly/kaggle-creds\n",
      "Your Kaggle username: tymofiij\n",
      "Your Kaggle Key: ········\n",
      "Downloading military-aircraft-recognition-dataset.zip to .\\military-aircraft-recognition-dataset\n"
     ]
    },
    {
     "name": "stderr",
     "output_type": "stream",
     "text": [
      "100%|█████████████████████████████████████████████████████████████████████████████| 1.13G/1.13G [16:51<00:00, 1.19MB/s]\n"
     ]
    },
    {
     "name": "stdout",
     "output_type": "stream",
     "text": [
      "\n"
     ]
    }
   ],
   "source": [
    "od.download(\"https://www.kaggle.com/datasets/khlaifiabilel/military-aircraft-recognition-dataset\")"
   ]
  },
  {
   "cell_type": "code",
   "execution_count": null,
   "id": "29ea9282",
   "metadata": {},
   "outputs": [],
   "source": []
  }
 ],
 "metadata": {
  "kernelspec": {
   "display_name": "Python 3 (ipykernel)",
   "language": "python",
   "name": "python3"
  },
  "language_info": {
   "codemirror_mode": {
    "name": "ipython",
    "version": 3
   },
   "file_extension": ".py",
   "mimetype": "text/x-python",
   "name": "python",
   "nbconvert_exporter": "python",
   "pygments_lexer": "ipython3",
   "version": "3.11.3"
  }
 },
 "nbformat": 4,
 "nbformat_minor": 5
}
